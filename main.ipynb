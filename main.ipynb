{
 "cells": [
  {
   "cell_type": "code",
   "execution_count": 1,
   "id": "b93b42fa-d12d-4cad-b375-794d7ff0511b",
   "metadata": {},
   "outputs": [],
   "source": [
    "import numpy as np\n",
    "from scipy.io.wavfile import write\n",
    "from scipy.special import expit\n",
    "\n",
    "import matplotlib.pyplot as plt"
   ]
  },
  {
   "cell_type": "code",
   "execution_count": 2,
   "id": "f3378425-5e91-46e2-8057-9d11a8020e50",
   "metadata": {},
   "outputs": [],
   "source": [
    "import librosa\n",
    "import librosa.display\n",
    "import matplotlib.pyplot as plt\n",
    "from IPython.display import Audio"
   ]
  },
  {
   "cell_type": "code",
   "execution_count": 3,
   "id": "69f4cddc-daa6-4442-8a85-097010f11f84",
   "metadata": {},
   "outputs": [],
   "source": [
    "import ipywidgets as widgets"
   ]
  },
  {
   "cell_type": "code",
   "execution_count": 4,
   "id": "0ed2f8b7-67b7-434e-9aaf-e5767957ec85",
   "metadata": {},
   "outputs": [],
   "source": [
    "def generate_sound(signal_type, duration, attack_duration, release_duration, slope_attack, slope_release, frequency=440, sr = 44100):\n",
    "    num_samples = int(sr * duration)\n",
    "    time = np.linspace(0, duration, num_samples)\n",
    "    if signal_type == 'white':\n",
    "        signal = np.random.normal(0, 1, num_samples)\n",
    "    elif signal_type == 'sin':\n",
    "        signal = np.sin(2 * np.pi * frequency * time)\n",
    "    \n",
    "    # Tworzenie funkcji obwiedni (sigmoidalnej)\n",
    "\n",
    "\n",
    "    # Create modified envelope with slope parameter\n",
    "    attack = expit((time - attack_duration / 2) * slope_attack / attack_duration)\n",
    "    release = expit((duration - time - release_duration / 2) * slope_release / release_duration)\n",
    "    \n",
    "    envelope = attack * release\n",
    "    \n",
    "    modulated_noise = signal * envelope\n",
    "    modulated_noise = modulated_noise / np.max(np.abs(modulated_noise))\n",
    "\n",
    "    return modulated_noise, envelope, time, sr"
   ]
  },
  {
   "cell_type": "code",
   "execution_count": 5,
   "id": "2ebb0c5b-9b82-4280-848e-04d5d52be20e",
   "metadata": {},
   "outputs": [],
   "source": [
    "def update_envelope_prep(signal_selector, freq):\n",
    "    def update_envelope(attack_duration, release_duration, attack_slope, release_slope):\n",
    "        duration = 0.5\n",
    "        signal_type = signal_selector\n",
    "        frequency = freq\n",
    "        modulated_noise, envelope, time, sr = generate_sound(signal_type, duration, attack_duration, release_duration, attack_slope, release_slope, frequency=frequency)\n",
    "        \n",
    "        fig, ax = plt.subplots(2,1, figsize=(12, 6))\n",
    "        ax[0].plot(time, envelope)\n",
    "        librosa.display.waveshow(modulated_noise, sr=sr, alpha=0.8, ax=ax[1])\n",
    "        plt.title(\"Waveform\")\n",
    "        plt.xlabel(\"Time [s]\")\n",
    "        plt.ylabel(\"Amplitude\")\n",
    "        plt.grid()\n",
    "        plt.show()\n",
    "        \n",
    "        display(Audio(modulated_noise, rate=sr))\n",
    "    return update_envelope"
   ]
  },
  {
   "cell_type": "code",
   "execution_count": 15,
   "id": "d0bb82e7-9102-4aff-9d50-b97b4aa96cd4",
   "metadata": {},
   "outputs": [
    {
     "data": {
      "application/vnd.jupyter.widget-view+json": {
       "model_id": "f808c46a34174df5a11f897d2dba5e7a",
       "version_major": 2,
       "version_minor": 0
      },
      "text/plain": [
       "VBox(children=(FloatSlider(value=0.5, description='Attack Dur:', max=1.0, min=0.05, step=0.05), FloatSlider(va…"
      ]
     },
     "metadata": {},
     "output_type": "display_data"
    },
    {
     "data": {
      "application/vnd.jupyter.widget-view+json": {
       "model_id": "8829c5ef47b74288926c776dcf5410a4",
       "version_major": 2,
       "version_minor": 0
      },
      "text/plain": [
       "Output()"
      ]
     },
     "metadata": {},
     "output_type": "display_data"
    }
   ],
   "source": [
    "attack_duration_slider = widgets.FloatSlider(value=0.5, min=0.05, max=1.0, step=0.05, description=\"Attack Dur:\")\n",
    "release_duration_slider = widgets.FloatSlider(value=0.5, min=0.05, max=1.0, step=0.05, description=\"Release Dur:\")\n",
    "attack_slope_slider = widgets.FloatSlider(value=10, min=1, max=20, step=1, description=\"Attack Slope:\")\n",
    "release_slope_slider = widgets.FloatSlider(value=10, min=1, max=20, step=1, description=\"Release Slope:\")\n",
    "\n",
    "# Link sliders to update function\n",
    "signal_selector = 'sin'\n",
    "freq = 120\n",
    "\n",
    "widgets.interactive(update_envelope_prep(signal_selector, freq), \n",
    "                    attack_duration=attack_duration_slider, \n",
    "                    release_duration=release_duration_slider, \n",
    "                    attack_slope=attack_slope_slider, \n",
    "                    release_slope=release_slope_slider)\n",
    "\n",
    "# Display sliders\n",
    "output = widgets.interactive_output(\n",
    "    update_envelope_prep(signal_selector, freq),\n",
    "    {\n",
    "        \"attack_duration\": attack_duration_slider,\n",
    "        \"release_duration\": release_duration_slider,\n",
    "        \"attack_slope\": attack_slope_slider,\n",
    "        \"release_slope\": release_slope_slider,\n",
    "    },\n",
    ")\n",
    "\n",
    "# Display sliders and output together\n",
    "ui = widgets.VBox([attack_duration_slider, release_duration_slider, attack_slope_slider, release_slope_slider])\n",
    "display(ui, output)"
   ]
  },
  {
   "cell_type": "code",
   "execution_count": null,
   "id": "2b9a4f11-9f82-487c-8700-f1561ff112c9",
   "metadata": {},
   "outputs": [],
   "source": []
  }
 ],
 "metadata": {
  "kernelspec": {
   "display_name": "Python [conda env:sonification] *",
   "language": "python",
   "name": "conda-env-sonification-py"
  },
  "language_info": {
   "codemirror_mode": {
    "name": "ipython",
    "version": 3
   },
   "file_extension": ".py",
   "mimetype": "text/x-python",
   "name": "python",
   "nbconvert_exporter": "python",
   "pygments_lexer": "ipython3",
   "version": "3.9.20"
  }
 },
 "nbformat": 4,
 "nbformat_minor": 5
}
